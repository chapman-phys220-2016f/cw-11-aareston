{
 "cells": [
  {
   "cell_type": "markdown",
   "metadata": {
    "collapsed": false
   },
   "source": [
    "# CW 11 Integration\n",
    "**Author(s): ** Preston Kamada and Aaron Grisez  \n",
    "**Last Published Date: ** 2016/12/19"
   ]
  },
  {
   "cell_type": "markdown",
   "metadata": {},
   "source": [
    "---"
   ]
  },
  {
   "cell_type": "markdown",
   "metadata": {},
   "source": [
    "### Discussion.\n",
    "For each of the following integration methods, assume that we know first-order ODE  \n",
    "  \n",
    "$$u'(t) = f[t, u(t)]$$  \n",
    "  \n",
    "on a discretized grid and know the starting point $u_k = u(t_k)$ and $\\Delta t = t_{k+1} - t_k$. One can use this information to evaluate how the following inegration methods work."
   ]
  },
  {
   "cell_type": "markdown",
   "metadata": {},
   "source": [
    "  "
   ]
  },
  {
   "cell_type": "markdown",
   "metadata": {},
   "source": [
    "**1. Euler's Method:**\n",
    "  \n",
    "$u_{k+1} = u_k + \\Delta t\\, f[t_k, u_k]$\n",
    "  \n",
    "Begin by plotting the starting point of the discretized grid. Generate the slope of the starting point $u_k$ of the given first-order ODE. Using the slope generated, take the slope $f[t_k, u_k]$ and evaluate over an arbitrary time $\\Delta t$ to discover $u_{k+1}$. Euler's Method works best with linear functions because it is the method with the least amount of steps that finds the exact location of $u_{k+1}$ using some $u_k$ location, $\\Delta t$, and the slope of $u_k$"
   ]
  },
  {
   "cell_type": "markdown",
   "metadata": {},
   "source": [
    "**2. Leapfrog (Midpoint) Method:**\n",
    "  \n",
    "$u_{k+1} = u_{k-1} + 2\\Delta t\\, f[t_k, u_k]$ \n",
    "\n",
    "The Leapfrog Method is similar to Euler's Method, except that it needs two initial points to do approximation. The way to get the successive point is to take the derivative at the first initial point and multiply it by $2\\Delta t$, then add that value to the second initial point. If your first initial point is $u_{k-1}$ and the second initial point is $u_k$, this method will get you $u_{k+1}$."
   ]
  },
  {
   "cell_type": "markdown",
   "metadata": {},
   "source": [
    "**3. Heun's (Trapezoid) Method:**\n",
    "  \n",
    "$\\tilde{u}_{k+1} = u_k + \\Delta t\\, f[t_k, u_k]$  \n",
    "  \n",
    "$u_{k+1} = u_k + (\\Delta t/2)(f[t_k, u_k] + f[t_{k+1}, \\tilde{u}_{k+1}])$\n",
    "\n",
    "The first equation, $\\tilde{u}_{k+1} = u_k + \\Delta t\\, f[t_k, u_k]$, is the exact same as Euler's Method. Heun's Method takes the derivative of the first point and the derivative of the next approximated point to approxmiate the midpoint of the two. Once both derivatives are found, the derivative must be scaled down by $\\Delta t/2$ and added to the first initial point to get the next approxmiated point."
   ]
  },
  {
   "cell_type": "markdown",
   "metadata": {},
   "source": [
    "**4. 2nd-order Runge-Kutta Method:**\n",
    "  \n",
    "$u_{k+1} = u_k + K_1$, \n",
    "  \n",
    "$K_1 = \\Delta t\\, f[t_k, u_k]$, \n",
    "  \n",
    "$K_2 = \\Delta t\\, f[t_k + \\Delta t/2, u_k + K_1/2]$\n",
    "\n",
    "The $K_1$ equation is the exact same as Euler's Method, so we the same description applies here. To get the next point, you use $K_1$ and implement that value into $K_2$.\n",
    "\n",
    "$K_2$ is a derivative at a certain point scaled by $\\Delta t$, but the derivative is taken at a $t$ value that is shifted from $\\Delta t$ to approxmiate the next point."
   ]
  },
  {
   "cell_type": "markdown",
   "metadata": {},
   "source": [
    "**5. 4th-order Runge-Kutta Method:**  \n",
    "  \n",
    "$u_{k+1} = u_k + (K_1 + 2K_2 + 2K_3 + K_4)/6$, \n",
    "  \n",
    "$K_1 = \\Delta t\\,f[t_k,u_k]$, \n",
    "  \n",
    "$K_2 = \\Delta t\\, f[t_k + \\Delta t/2, u_k + K_1/2]$, \n",
    "  \n",
    "$K_3 = \\Delta t\\, f[t_k + \\Delta t/2, u_k + K_2/2]$, \n",
    "  \n",
    "$K_4 = \\Delta t\\,f[t_k + \\Delta t, u_k + K_3]$\n",
    "\n",
    "Only one initial point is needed to generate the entire 4th other Runge Kutta, which is extremely important to consider.\n",
    "\n",
    "$K_1,K_2,K_3,K_4$ is generated with the one initial point and then is weighed accordingly to take into consideration the factors these equations are generated. $K_1$ will overapproximate and $K_4$ will underapproximate. $K_2$ and $K_3$ will be close values to the actual value that is trying to be reached."
   ]
  },
  {
   "cell_type": "markdown",
   "metadata": {},
   "source": [
    "*Summarize which integration method is the most popular method and why it is the most popular method for integrating ODEs*"
   ]
  },
  {
   "cell_type": "markdown",
   "metadata": {
    "collapsed": true
   },
   "source": [
    "The integration method that I would think to be the most popular method for integrating ODEs would be the 4th order Runge-Kutta. This is because it is extremely accurate and only requires the knowledge of one initial point. Other methods could be used, but their values would not be as accurate as the 4th other method."
   ]
  },
  {
   "cell_type": "code",
   "execution_count": null,
   "metadata": {
    "collapsed": true
   },
   "outputs": [],
   "source": []
  }
 ],
 "metadata": {
  "kernelspec": {
   "display_name": "Python 2 (SageMath)",
   "language": "python",
   "name": "python2"
  },
  "language_info": {
   "codemirror_mode": {
    "name": "ipython",
    "version": 2
   },
   "file_extension": ".py",
   "mimetype": "text/x-python",
   "name": "python",
   "nbconvert_exporter": "python",
   "pygments_lexer": "ipython2",
   "version": "2.7.10"
  }
 },
 "nbformat": 4,
 "nbformat_minor": 0
}
